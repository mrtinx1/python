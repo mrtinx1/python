{
 "cells": [
  {
   "cell_type": "markdown",
   "metadata": {},
   "source": [
    "##  實作練習一"
   ]
  },
  {
   "cell_type": "code",
   "execution_count": 4,
   "metadata": {},
   "outputs": [
    {
     "name": "stdout",
     "output_type": "stream",
     "text": [
      "請輸入成績60\n",
      "丙等\n"
     ]
    }
   ],
   "source": [
    "score=input(\"請輸入成績\")\n",
    "score=int(score)\n",
    "if(score>=90):\n",
    "    print(\"優等\")\n",
    "elif(score<90 and score>=80):\n",
    "    print(\"甲等\")\n",
    "elif(score<80 and score>=70):\n",
    "    print(\"乙等\")\n",
    "elif(score<70 and score>=60):\n",
    "    print(\"丙等\")\n",
    "elif(score<60):\n",
    "    print(\"丁等\")"
   ]
  },
  {
   "cell_type": "markdown",
   "metadata": {},
   "source": [
    "## 實作練習二"
   ]
  },
  {
   "cell_type": "code",
   "execution_count": 19,
   "metadata": {},
   "outputs": [
    {
     "name": "stdout",
     "output_type": "stream",
     "text": [
      "請輸入數字10\n",
      "55\n"
     ]
    }
   ],
   "source": [
    "lop=input(\"請輸入數字\")\n",
    "try:\n",
    "    lop=int(lop)\n",
    "except:\n",
    "    print(\"不是正整數\")\n",
    "a=0\n",
    "if(lop>0 and lop%1==0):\n",
    "    for n in range(lop+1):\n",
    "       a=a+n\n",
    "    print(a)\n",
    "else:\n",
    "    print(\"不是正整數\")\n"
   ]
  },
  {
   "cell_type": "markdown",
   "metadata": {},
   "source": [
    "## 實作練習三"
   ]
  },
  {
   "cell_type": "code",
   "execution_count": 21,
   "metadata": {},
   "outputs": [
    {
     "name": "stdout",
     "output_type": "stream",
     "text": [
      "請輸入數字10\n",
      "外部第 1 次迴圈,內部第 1 次迴圈:#\n",
      "外部第 2 次迴圈,內部第 2 次迴圈:##\n",
      "外部第 3 次迴圈,內部第 3 次迴圈:###\n",
      "外部第 4 次迴圈,內部第 4 次迴圈:####\n",
      "外部第 5 次迴圈,內部第 5 次迴圈:#####\n",
      "外部第 6 次迴圈,內部第 6 次迴圈:######\n",
      "外部第 7 次迴圈,內部第 7 次迴圈:#######\n",
      "外部第 8 次迴圈,內部第 8 次迴圈:########\n",
      "外部第 9 次迴圈,內部第 9 次迴圈:#########\n",
      "外部第 10 次迴圈,內部第 10 次迴圈:##########\n"
     ]
    }
   ],
   "source": [
    "n=input(\"請輸入數字\")\n",
    "try:\n",
    "    n=int(n)\n",
    "except:\n",
    "    print(\"不是正整數\")\n",
    "for a in range(1,n+1):\n",
    "    print(\"外部第\",a,\"次迴圈,\",end='')\n",
    "    print(\"內部第\",a,\"次迴圈:\",end='')\n",
    "    for b in range(1,a+1):\n",
    "        print(\"#\",end='')\n",
    "    print(\"\")\n",
    "        \n"
   ]
  },
  {
   "cell_type": "markdown",
   "metadata": {},
   "source": [
    "## 實作練習五"
   ]
  },
  {
   "cell_type": "code",
   "execution_count": 20,
   "metadata": {},
   "outputs": [
    {
     "name": "stdout",
     "output_type": "stream",
     "text": [
      "請輸入正整數15\n",
      "1  2  3  4  6  7  8  9  11  12  13  14  "
     ]
    }
   ],
   "source": [
    "n=input(\"請輸入正整數\")\n",
    "try:\n",
    "    n=int(n)\n",
    "except:\n",
    "    print(\"不是正整數\")\n",
    "for i in range(1,n+1):\n",
    "    if(i%5==0):\n",
    "        continue\n",
    "    print(i,\" \",end='')\n"
   ]
  },
  {
   "cell_type": "markdown",
   "metadata": {},
   "source": [
    "## 實作練習六"
   ]
  },
  {
   "cell_type": "code",
   "execution_count": 26,
   "metadata": {},
   "outputs": [
    {
     "name": "stdout",
     "output_type": "stream",
     "text": [
      "請輸入正整數1.1\n",
      "不是正整數\n"
     ]
    },
    {
     "ename": "TypeError",
     "evalue": "'<=' not supported between instances of 'int' and 'str'",
     "output_type": "error",
     "traceback": [
      "\u001b[1;31m---------------------------------------------------------------------------\u001b[0m",
      "\u001b[1;31mTypeError\u001b[0m                                 Traceback (most recent call last)",
      "\u001b[1;32m<ipython-input-26-792dfe9830e7>\u001b[0m in \u001b[0;36m<module>\u001b[1;34m\u001b[0m\n\u001b[0;32m      6\u001b[0m \u001b[0ma\u001b[0m\u001b[1;33m=\u001b[0m\u001b[1;36m1\u001b[0m\u001b[1;33m\u001b[0m\u001b[1;33m\u001b[0m\u001b[0m\n\u001b[0;32m      7\u001b[0m \u001b[0msum\u001b[0m\u001b[1;33m=\u001b[0m\u001b[1;36m1\u001b[0m\u001b[1;33m\u001b[0m\u001b[1;33m\u001b[0m\u001b[0m\n\u001b[1;32m----> 8\u001b[1;33m \u001b[1;32mwhile\u001b[0m\u001b[1;33m(\u001b[0m\u001b[0ma\u001b[0m\u001b[1;33m<=\u001b[0m\u001b[0mn\u001b[0m\u001b[1;33m)\u001b[0m\u001b[1;33m:\u001b[0m\u001b[1;33m\u001b[0m\u001b[1;33m\u001b[0m\u001b[0m\n\u001b[0m\u001b[0;32m      9\u001b[0m     \u001b[0msum\u001b[0m\u001b[1;33m=\u001b[0m\u001b[0msum\u001b[0m\u001b[1;33m*\u001b[0m\u001b[0ma\u001b[0m\u001b[1;33m\u001b[0m\u001b[1;33m\u001b[0m\u001b[0m\n\u001b[0;32m     10\u001b[0m     \u001b[0ma\u001b[0m\u001b[1;33m+=\u001b[0m\u001b[1;36m1\u001b[0m\u001b[1;33m\u001b[0m\u001b[1;33m\u001b[0m\u001b[0m\n",
      "\u001b[1;31mTypeError\u001b[0m: '<=' not supported between instances of 'int' and 'str'"
     ]
    }
   ],
   "source": [
    "n=input(\"請輸入正整數\")\n",
    "try:\n",
    "    n=int(n)\n",
    "except:\n",
    "    print(\"不是正整數\")\n",
    "a=1\n",
    "sum=1\n",
    "while(a<=n):\n",
    "    sum=sum*a\n",
    "    a+=1\n",
    "print(n,\"!=\",sum)"
   ]
  },
  {
   "cell_type": "code",
   "execution_count": null,
   "metadata": {},
   "outputs": [],
   "source": []
  }
 ],
 "metadata": {
  "kernelspec": {
   "display_name": "Python 3",
   "language": "python",
   "name": "python3"
  },
  "language_info": {
   "codemirror_mode": {
    "name": "ipython",
    "version": 3
   },
   "file_extension": ".py",
   "mimetype": "text/x-python",
   "name": "python",
   "nbconvert_exporter": "python",
   "pygments_lexer": "ipython3",
   "version": "3.7.3"
  }
 },
 "nbformat": 4,
 "nbformat_minor": 2
}
